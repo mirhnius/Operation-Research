{
 "cells": [
  {
   "cell_type": "markdown",
   "metadata": {},
   "source": [
    "# Assignment 2\n",
    "## Niusha Mirhakimi 810196569\n",
    "\n",
    "In this assignment, we aim to divide a matrix n * n into three n * n matrices, in a way the first matrix row-wise duplicated and the second one column-wise duplicated, and the third one's elements are the subtraction of the two first matrices from the original matrix. \n",
    " \n",
    " \n",
    "To solving it as an optimization problem, I defined n number variables for the first and second matrices and n*n variables for the third one.\n",
    "The cost function of this problem is the summation Maximum value of the first and second matrix plus all third matrix variables.\n",
    "J = Max(Matrix1) + Max(Matrix2) + Sum(Matrix3)\n",
    "\n"
   ]
  },
  {
   "cell_type": "code",
   "execution_count": 123,
   "metadata": {},
   "outputs": [],
   "source": [
    "from pulp import *"
   ]
  },
  {
   "cell_type": "code",
   "execution_count": 124,
   "metadata": {},
   "outputs": [],
   "source": [
    "inp = [[8, 7, 10],\n",
    "      [8, 6, 5],\n",
    "      [6, 8, 7]]\n",
    "n = 3"
   ]
  },
  {
   "cell_type": "code",
   "execution_count": 125,
   "metadata": {},
   "outputs": [],
   "source": [
    "prob = LpProblem(\"Assignment2\",LpMinimize)"
   ]
  },
  {
   "cell_type": "code",
   "execution_count": 126,
   "metadata": {},
   "outputs": [],
   "source": [
    "first = LpVariable.dicts(\"first\", range(n), lowBound=0, cat='Integer')\n",
    "second = LpVariable.dicts(\"second\", range(n), lowBound=0, cat='Integer')\n",
    "third = LpVariable.dicts(\"third\", (range(n), range(n)), lowBound=0, cat='Integer')\n",
    "max1 = LpVariable(\"Max1\", lowBound=0, cat='Integer')\n",
    "max2 = LpVariable(\"Max2\", lowBound=0, cat='Integer')"
   ]
  },
  {
   "cell_type": "code",
   "execution_count": 127,
   "metadata": {},
   "outputs": [],
   "source": [
    "for i in range(n):\n",
    "    prob += max1 >= first[i]\n",
    "    prob += max2 >= second[i]"
   ]
  },
  {
   "cell_type": "code",
   "execution_count": 128,
   "metadata": {},
   "outputs": [],
   "source": [
    "for i in range(n):\n",
    "    for j in range(n):\n",
    "        prob += (inp[i][j]-first[i]-second[j])==third[i][j]"
   ]
  },
  {
   "cell_type": "code",
   "execution_count": 129,
   "metadata": {},
   "outputs": [
    {
     "name": "stdout",
     "output_type": "stream",
     "text": [
      "18\n"
     ]
    }
   ],
   "source": [
    "prob += max1 + max2 + lpSum(third) \n",
    "prob.solve()\n",
    "res = prob.objective.value()\n",
    "print(res)"
   ]
  }
 ],
 "metadata": {
  "kernelspec": {
   "display_name": "Python 3",
   "language": "python",
   "name": "python3"
  },
  "language_info": {
   "codemirror_mode": {
    "name": "ipython",
    "version": 3
   },
   "file_extension": ".py",
   "mimetype": "text/x-python",
   "name": "python",
   "nbconvert_exporter": "python",
   "pygments_lexer": "ipython3",
   "version": "3.7.3"
  }
 },
 "nbformat": 4,
 "nbformat_minor": 2
}
