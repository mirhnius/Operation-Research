{
 "metadata": {
  "language_info": {
   "codemirror_mode": {
    "name": "ipython",
    "version": 3
   },
   "file_extension": ".py",
   "mimetype": "text/x-python",
   "name": "python",
   "nbconvert_exporter": "python",
   "pygments_lexer": "ipython3",
   "version": "3.7.6-final"
  },
  "orig_nbformat": 2,
  "kernelspec": {
   "name": "python3",
   "display_name": "Python 3",
   "language": "python"
  }
 },
 "nbformat": 4,
 "nbformat_minor": 2,
 "cells": [
  {
   "cell_type": "code",
   "execution_count": 13,
   "metadata": {},
   "outputs": [],
   "source": [
    "from pulp import *\n",
    "import numpy as np"
   ]
  },
  {
   "cell_type": "code",
   "execution_count": 14,
   "metadata": {},
   "outputs": [],
   "source": [
    "number_of_nodes, number_of_lines = map(int, input().split())\n",
    "\n",
    "adjacent_map = np.zeros((number_of_nodes, number_of_nodes))\n",
    "for i in range(number_of_lines):\n",
    "    node1, node2 = map(int, input().split())\n",
    "    adjacent_map[node1, node2] = 1\n",
    "    adjacent_map[node2, node1] = 1  "
   ]
  },
  {
   "cell_type": "code",
   "execution_count": 16,
   "metadata": {},
   "outputs": [],
   "source": [
    "prob = LpProblem(\"Coloring \", LpMinimize)\n",
    "\n",
    "#to check each node has which color \n",
    "#the maximum number of color is needed can not be greater than the number of nodes, so we think we have the maximum possible number of colors and then figure out how many of them are being used  \n",
    "X = LpVariable.dicts(\"X\",(range(number_of_nodes),range(number_of_nodes)),lowBound=0,upBound=1,cat='Integer') \n",
    "#to check each color used or not\n",
    "Y = LpVariable.dicts(\"Y\",range(number_of_nodes),lowBound=0,upBound=1,cat='Integer')\n",
    "\n",
    "prob += lpSum([Y[j] for j in range(number_of_nodes)])#add variables to the problem"
   ]
  },
  {
   "cell_type": "code",
   "execution_count": 17,
   "metadata": {},
   "outputs": [],
   "source": [
    "#adding constraints\n",
    "\n",
    "#each node should have only one color\n",
    "for i in range(number_of_nodes):\n",
    "    count = 0\n",
    "    for j in range(number_of_nodes):\n",
    "        count += X[i][j]\n",
    "    prob += count==1\n",
    "\n",
    "#if a color used for a node, it should label as used color \n",
    "for node in range(number_of_nodes):\n",
    "    for j in range(number_of_nodes):\n",
    "        prob += X[node][j]<=Y[j]\n",
    "\n",
    "#nearby nodes shouldn't have the same color\n",
    "for node1 in range(number_of_nodes):\n",
    "    for node2 in range(number_of_nodes):\n",
    "        if adjacent_map[node1, node2]==1:\n",
    "            for j in range(number_of_nodes):\n",
    "                prob += X[node1][j] + X[node2][j] <= 1"
   ]
  },
  {
   "cell_type": "code",
   "execution_count": 24,
   "metadata": {},
   "outputs": [
    {
     "output_type": "stream",
     "name": "stdout",
     "text": [
      "Nodes with their mate color:\n0 2\n1 1\n2 2\n3 2\n"
     ]
    }
   ],
   "source": [
    "prob.solve()\n",
    "\n",
    "print(\"Nodes with their mate color:\")\n",
    "for node in range(number_of_nodes):\n",
    "    for j in range(number_of_nodes):\n",
    "        if X[node][j].value() == 1:\n",
    "            print(node,j)"
   ]
  },
  {
   "cell_type": "code",
   "execution_count": 25,
   "metadata": {},
   "outputs": [
    {
     "output_type": "stream",
     "name": "stdout",
     "text": [
      "The minimum number of colors is: 2\n"
     ]
    }
   ],
   "source": [
    "print(\"The minimum number of colors is:\", value(prob.objective))"
   ]
  }
 ]
}